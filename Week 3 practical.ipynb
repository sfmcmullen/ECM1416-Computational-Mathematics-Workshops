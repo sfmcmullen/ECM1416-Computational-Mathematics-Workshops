{
 "cells": [
  {
   "cell_type": "markdown",
   "metadata": {},
   "source": [
    "# ECM1416: Computational Mathematics\n",
    "## Worksheet #2: Matrix inverse\n"
   ]
  },
  {
   "cell_type": "code",
   "execution_count": 1,
   "metadata": {
    "collapsed": true
   },
   "outputs": [],
   "source": [
    "# import the numpy package in the np namespace\n",
    "import numpy as np\n",
    "\n",
    "# this line will load the plotting function into the namespace plt.\n",
    "import matplotlib.pyplot as plt\n",
    "\n",
    "# the following lines prevent Python from opening new windows for figures. \n",
    "%matplotlib inline"
   ]
  },
  {
   "cell_type": "markdown",
   "metadata": {
    "collapsed": true
   },
   "source": [
    "### Linear algebra functions in numpy\n",
    "Many linear algebra functions in Numpy are stored in the <tt>numpy.linalg</tt> namespace: https://docs.scipy.org/doc/numpy/reference/routines.linalg.html\n",
    "\n",
    "For example, the determinant of a matrix can be calculated using <tt>numpy.linalg.det()</tt>, and the inverse using <tt>numpy.linalg.inv()</tt>"
   ]
  },
  {
   "cell_type": "markdown",
   "metadata": {},
   "source": [
    "## Exercises\n",
    "### Exercise 1: Determinant\n",
    "The aim of this exercise is to code a function implementing the Laplace formula for calculating the determinant. You are recommended to use subfunctions for calculating the minors and cofactors (you will need them later). \n",
    "Compare your function to Numpy's determinant function on a couple of matrices. \n"
   ]
  },
  {
   "cell_type": "code",
   "execution_count": 2,
   "metadata": {},
   "outputs": [],
   "source": [
    "def findMinor(A, row, colummn):\n",
    "    \"\"\"Returns the minor of a matrix A at a given row and column.\"\"\"\n",
    "    A = np.delete(A, row, 0) # Deletes row at index 'row'\n",
    "    A = np.delete(A, colummn, 1) # Deletes column at index 'column'\n",
    "    return A"
   ]
  },
  {
   "cell_type": "code",
   "execution_count": 3,
   "metadata": {},
   "outputs": [
    {
     "name": "stdout",
     "output_type": "stream",
     "text": [
      "[[5 6]\n",
      " [8 9]]\n"
     ]
    }
   ],
   "source": [
    "#Testing the findMinor function\n",
    "A = np.array([[1,2,3],[4,5,6],[7,8,9]]) # Creates a 3x3 matrix\n",
    "print(findMinor(A, 0, 0)) # Should return [[5,6],[8,9]]"
   ]
  },
  {
   "cell_type": "code",
   "execution_count": 4,
   "metadata": {},
   "outputs": [],
   "source": [
    "def determinant2x2(A):\n",
    "    \"\"\"Returns the determinant of a 2x2 matrix.\"\"\"\n",
    "    return A[0][0]*A[1][1] - A[0][1]*A[1][0] # ad - bc"
   ]
  },
  {
   "cell_type": "code",
   "execution_count": 5,
   "metadata": {},
   "outputs": [
    {
     "name": "stdout",
     "output_type": "stream",
     "text": [
      "-2\n"
     ]
    }
   ],
   "source": [
    "#Testing the determinant2x2 function\n",
    "A = np.array([[1,2],[3,4]]) # Creates a 2x2 matrix\n",
    "print(determinant2x2(A)) # Should return -2"
   ]
  },
  {
   "cell_type": "code",
   "execution_count": 6,
   "metadata": {},
   "outputs": [],
   "source": [
    "def findCofactor(A, row, column):\n",
    "    \"\"\"Returns the cofactor of a matrix A at a given row and column.\"\"\"\n",
    "    A = findMinor(A, row, column) # Finds the minor of A at the given row and column\n",
    "    determinantA = determinant2x2(A) # Finds the determinant of the minor\n",
    "    cofactor = (-1)**(row+column) * determinantA\n",
    "    return cofactor"
   ]
  },
  {
   "cell_type": "code",
   "execution_count": 7,
   "metadata": {},
   "outputs": [
    {
     "name": "stdout",
     "output_type": "stream",
     "text": [
      "-3\n"
     ]
    }
   ],
   "source": [
    "#Testing the findCofactor function\n",
    "A = np.array([[1,2,3],[4,5,6],[7,8,9]]) # Creates a 3x3 matrix\n",
    "print(findCofactor(A, 0, 0)) # Should return -3"
   ]
  },
  {
   "cell_type": "code",
   "execution_count": 8,
   "metadata": {},
   "outputs": [],
   "source": [
    "def determinant3x3(A):\n",
    "    \"\"\"Returns the determinant of a 3x3 matrix A.\"\"\"\n",
    "    determinantA = 0\n",
    "    for i in range (0,3):\n",
    "        # r0c0*cofactor(r0c0) + r0c1*cofactor(r0c1) + r0c2*cofactor(r0c2)\n",
    "        determinantA += A[0][i]*findCofactor(A, 0, i)\n",
    "\n",
    "    return determinantA"
   ]
  },
  {
   "cell_type": "code",
   "execution_count": 9,
   "metadata": {},
   "outputs": [
    {
     "name": "stdout",
     "output_type": "stream",
     "text": [
      "0\n"
     ]
    }
   ],
   "source": [
    "#Testing the determinant3x3 function\n",
    "A = np.array([[1,2,3],[4,5,6],[7,8,9]]) # Creates a 3x3 matrix\n",
    "print(determinant3x3(A)) # Should return 0"
   ]
  },
  {
   "cell_type": "markdown",
   "metadata": {},
   "source": [
    "### Exercise 2: Inverse\n",
    "Build on the code you wrote for part one to provide the Cramer's rule solution to calculate the inverse of a matrix (as discussed in the lecture). Again compare your approach to numpy's results on some matrices. "
   ]
  },
  {
   "cell_type": "code",
   "execution_count": 10,
   "metadata": {},
   "outputs": [],
   "source": [
    "def inverse2x2(A):\n",
    "    '''Returns the inverse of a 2x2 matrix A.'''\n",
    "    determinantA = determinant2x2(A) # Finds the determinant of A\n",
    "    if determinantA == 0:\n",
    "        return \"Matrix is not invertible\"\n",
    "    adjugateA = np.array([[A[1][1], -A[0][1]], [-A[1][0], A[0][0]]]) # Creates the [[d -b], [-c a]] matrix (the adjugate of A)\n",
    "    inverse = 1/determinantA * adjugateA # 1/det(A) * adj(A)\n",
    "    return inverse"
   ]
  },
  {
   "cell_type": "code",
   "execution_count": 11,
   "metadata": {},
   "outputs": [
    {
     "name": "stdout",
     "output_type": "stream",
     "text": [
      "[[-2.   1. ]\n",
      " [ 1.5 -0.5]]\n"
     ]
    }
   ],
   "source": [
    "#Testing the inverse2x2 function\n",
    "A = np.array([[1,2],[3,4]]) # Creates a 2x2 matrix\n",
    "print(inverse2x2(A)) # Should return [[-2,1],[1.5,-0.5]]"
   ]
  },
  {
   "cell_type": "code",
   "execution_count": 12,
   "metadata": {},
   "outputs": [
    {
     "name": "stdout",
     "output_type": "stream",
     "text": [
      "Matrix is not invertible\n"
     ]
    }
   ],
   "source": [
    "#Testing the inverse2x2 function with a non-invertible matrix\n",
    "A = np.array([[1,2],[2,4]]) # Creates a 2x2 matrix\n",
    "print(inverse2x2(A)) # Should return \"Matrix is not invertible\""
   ]
  },
  {
   "cell_type": "code",
   "execution_count": 13,
   "metadata": {},
   "outputs": [],
   "source": [
    "def inverse3x3(A):\n",
    "    '''Returns the inverse of a 3x3 matrix A.'''\n",
    "    determinantA = determinant3x3(A) # Finds the determinant of A\n",
    "    if determinantA == 0:\n",
    "        return \"The matrix is not invertible.\" # If the determinant is 0, the matrix is not invertible\n",
    "    adjugateA = np.array([[findCofactor(A, 0, 0), findCofactor(A, 0, 1), findCofactor(A, 0, 2)], [findCofactor(A, 1, 0), findCofactor(A, 1, 1), findCofactor(A, 1, 2)], [findCofactor(A, 2, 0), findCofactor(A, 2, 1), findCofactor(A, 2, 2)]]) # Creates the [[d -b], [-c a]] matrix (the adjugate of A)\n",
    "    inverse = 1/determinantA * adjugateA # 1/det(A) * adj(A)\n",
    "    return inverse"
   ]
  },
  {
   "cell_type": "code",
   "execution_count": 14,
   "metadata": {},
   "outputs": [
    {
     "name": "stdout",
     "output_type": "stream",
     "text": [
      "[[ 0.13483146 -0.04868914 -0.082397  ]\n",
      " [-0.03370787 -0.07116105  0.18726592]\n",
      " [-0.01123596  0.19850187 -0.04868914]]\n"
     ]
    }
   ],
   "source": [
    "#Testing the inverse3x3 function\n",
    "A = np.array([[9,1,2],[5,2,7],[4,6,3]]) # Creates a 3x3 matrix\n",
    "print(inverse3x3(A)) "
   ]
  },
  {
   "cell_type": "code",
   "execution_count": 15,
   "metadata": {},
   "outputs": [
    {
     "name": "stdout",
     "output_type": "stream",
     "text": [
      "The matrix is not invertible.\n"
     ]
    }
   ],
   "source": [
    "#Testing the inverse3x3 function\n",
    "A = np.array([[1,2,3],[4,5,6],[7,8,9]]) # Creates a 3x3 matrix\n",
    "print(inverse3x3(A)) # Should return \"The matrix is not invertible.\""
   ]
  },
  {
   "cell_type": "markdown",
   "metadata": {},
   "source": [
    "### Exercise 3: System of linear equations\n",
    "The aim of this exercise is to use the inverse to solve a system of linear equations. To this end, let's look at a small problem: \n",
    "1. On Monday, you went to the shop and bought 2 coffees, one tea and 5 donuts (generous of you) and paid 12 pounds. \n",
    "2. On Tuesday, you went again and bought 3 coffees and 6 donuts and pay 13.50. \n",
    "3. Finally on Wednesday, you bought 1 coffee, 1 tea and two donuts and pay 6.50. \n",
    "\n",
    "Question: what is the price of each of the items you bought this week? \n",
    "\n",
    "Model this as a system of linear equation and solve it using the inverse. "
   ]
  },
  {
   "cell_type": "code",
   "execution_count": 16,
   "metadata": {},
   "outputs": [
    {
     "name": "stdout",
     "output_type": "stream",
     "text": [
      "coffee = 2.5\n",
      "tea = 2.0\n",
      "doughnuts = 1.0\n"
     ]
    }
   ],
   "source": [
    "#If x = coffee, y = tea and z = doughnuts:\n",
    "#1. 2x + y + 5z = 12.00\n",
    "#2. 3x + 6z = 13.50\n",
    "#3. x + y + 2z = 6.50\n",
    "\n",
    "#The above equations can be written as a matrix equation:\n",
    "#A * xyz = b\n",
    "\n",
    "# Therefore, ...\n",
    "A = np.array([[2,1,5],[3,0,6],[1,1,2]])\n",
    "b = np.array([[12.00],[13.50],[6.50]])\n",
    "\n",
    "inverseA = inverse3x3(A)\n",
    "transposeA = inverseA.T\n",
    "\n",
    "xyz = np.dot(transposeA, b) # Use np.dot() to perform matrix multiplication\n",
    "\n",
    "print(\"coffee = \" + str(xyz[0][0]))\n",
    "print(\"tea = \" + str(xyz[1][0]))\n",
    "print(\"doughnuts = \" + str(xyz[2][0]))\n"
   ]
  }
 ],
 "metadata": {
  "anaconda-cloud": {},
  "kernelspec": {
   "display_name": "Python 3",
   "language": "python",
   "name": "python3"
  },
  "language_info": {
   "codemirror_mode": {
    "name": "ipython",
    "version": 3
   },
   "file_extension": ".py",
   "mimetype": "text/x-python",
   "name": "python",
   "nbconvert_exporter": "python",
   "pygments_lexer": "ipython3",
   "version": "0.0.0"
  }
 },
 "nbformat": 4,
 "nbformat_minor": 1
}
