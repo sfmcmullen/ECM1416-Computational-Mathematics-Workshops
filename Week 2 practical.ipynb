{
 "cells": [
  {
   "cell_type": "markdown",
   "metadata": {},
   "source": [
    "# ECM1416: Computational Mathematics\n",
    "## Worksheet #1: Doing Maths in Python\n",
    "\n",
    "In the course of this module, the practical work will be using the Python language. For convenience, we will use Jupyter python notebooks (http://jupyter.org/), which allows to weave text like this with Python code. Nonetheless, note that all Python code we will be using could be used exactly in the same way in a normal Python program. Moreover, you will be able to use everything you have already learnt about Python in the first semester. "
   ]
  },
  {
   "cell_type": "markdown",
   "metadata": {},
   "source": [
    "### Jupyter Notebooks: Executing cells\n",
    "A Jupyter notebook is divided into cells. Cells can be executed by pressing ctrl-enter. "
   ]
  },
  {
   "cell_type": "code",
   "execution_count": 8,
   "metadata": {},
   "outputs": [],
   "source": [
    "# the following code defines a simple Python function squaring a number\n",
    "# you can execute this code bit by pressing ctrl-enter\n",
    "def square_it(a): \n",
    "    return a**2"
   ]
  },
  {
   "cell_type": "code",
   "execution_count": 9,
   "metadata": {},
   "outputs": [],
   "source": [
    "def square_it(a): \n",
    "    return a**2\n"
   ]
  },
  {
   "cell_type": "markdown",
   "metadata": {},
   "source": [
    "Once a cell is executed, the function definition is loaded in memory and can be used by any other code cell, as in below.  "
   ]
  },
  {
   "cell_type": "code",
   "execution_count": 10,
   "metadata": {},
   "outputs": [
    {
     "name": "stdout",
     "output_type": "stream",
     "text": [
      "0\n",
      "1\n",
      "4\n",
      "9\n",
      "16\n"
     ]
    }
   ],
   "source": [
    "# this code calls the function defined in the previous code cell. \n",
    "for i in range(5): \n",
    "    print(square_it(i))"
   ]
  },
  {
   "cell_type": "code",
   "execution_count": 11,
   "metadata": {},
   "outputs": [
    {
     "data": {
      "text/plain": [
       "1"
      ]
     },
     "execution_count": 11,
     "metadata": {},
     "output_type": "execute_result"
    }
   ],
   "source": [
    "square_it(1)"
   ]
  },
  {
   "cell_type": "markdown",
   "metadata": {},
   "source": [
    "Similarly, any variable or class can be used in following cells once the cell in which it is defined has been executed. \n",
    "\n",
    "Markdown cells can be used to write commentary and discuss the results obtained by the program. \n",
    "Maths formulae can be written between double dollar signs ($) using Latex Math formulation: \n",
    "https://en.wikibooks.org/wiki/LaTeX/Mathematics\n",
    "\n",
    "For example: \n",
    "\n",
    "$$ f(n) = \\sum_{i=1}^n f(i) $$\n"
   ]
  },
  {
   "cell_type": "markdown",
   "metadata": {},
   "source": [
    "## Drawing graphs in Python \n",
    "When using Python for scientific computing it is often convenient to plot the results of your computations. As often with Python, there are good packages you can import for this. In this course we will use the matplotlib package: "
   ]
  },
  {
   "cell_type": "code",
   "execution_count": 12,
   "metadata": {},
   "outputs": [],
   "source": [
    "# this line will load the plotting function into the namespace plt.\n",
    "import matplotlib.pyplot as plt\n",
    "\n",
    "# the following lines prevent Python from opening new windows for figures. \n",
    "%matplotlib inline "
   ]
  },
  {
   "cell_type": "code",
   "execution_count": 13,
   "metadata": {},
   "outputs": [
    {
     "name": "stdout",
     "output_type": "stream",
     "text": [
      "Help on function plot in module matplotlib.pyplot:\n",
      "\n",
      "plot(*args, scalex=True, scaley=True, data=None, **kwargs)\n",
      "    Plot y versus x as lines and/or markers.\n",
      "    \n",
      "    Call signatures::\n",
      "    \n",
      "        plot([x], y, [fmt], *, data=None, **kwargs)\n",
      "        plot([x], y, [fmt], [x2], y2, [fmt2], ..., **kwargs)\n",
      "    \n",
      "    The coordinates of the points or line nodes are given by *x*, *y*.\n",
      "    \n",
      "    The optional parameter *fmt* is a convenient way for defining basic\n",
      "    formatting like color, marker and linestyle. It's a shortcut string\n",
      "    notation described in the *Notes* section below.\n",
      "    \n",
      "    >>> plot(x, y)        # plot x and y using default line style and color\n",
      "    >>> plot(x, y, 'bo')  # plot x and y using blue circle markers\n",
      "    >>> plot(y)           # plot y using x as index array 0..N-1\n",
      "    >>> plot(y, 'r+')     # ditto, but with red plusses\n",
      "    \n",
      "    You can use `.Line2D` properties as keyword arguments for more\n",
      "    control on the appearance. Line properties and *fmt* can be mixed.\n",
      "    The following two calls yield identical results:\n",
      "    \n",
      "    >>> plot(x, y, 'go--', linewidth=2, markersize=12)\n",
      "    >>> plot(x, y, color='green', marker='o', linestyle='dashed',\n",
      "    ...      linewidth=2, markersize=12)\n",
      "    \n",
      "    When conflicting with *fmt*, keyword arguments take precedence.\n",
      "    \n",
      "    \n",
      "    **Plotting labelled data**\n",
      "    \n",
      "    There's a convenient way for plotting objects with labelled data (i.e.\n",
      "    data that can be accessed by index ``obj['y']``). Instead of giving\n",
      "    the data in *x* and *y*, you can provide the object in the *data*\n",
      "    parameter and just give the labels for *x* and *y*::\n",
      "    \n",
      "    >>> plot('xlabel', 'ylabel', data=obj)\n",
      "    \n",
      "    All indexable objects are supported. This could e.g. be a `dict`, a\n",
      "    `pandas.DataFrame` or a structured numpy array.\n",
      "    \n",
      "    \n",
      "    **Plotting multiple sets of data**\n",
      "    \n",
      "    There are various ways to plot multiple sets of data.\n",
      "    \n",
      "    - The most straight forward way is just to call `plot` multiple times.\n",
      "      Example:\n",
      "    \n",
      "      >>> plot(x1, y1, 'bo')\n",
      "      >>> plot(x2, y2, 'go')\n",
      "    \n",
      "    - If *x* and/or *y* are 2D arrays a separate data set will be drawn\n",
      "      for every column. If both *x* and *y* are 2D, they must have the\n",
      "      same shape. If only one of them is 2D with shape (N, m) the other\n",
      "      must have length N and will be used for every data set m.\n",
      "    \n",
      "      Example:\n",
      "    \n",
      "      >>> x = [1, 2, 3]\n",
      "      >>> y = np.array([[1, 2], [3, 4], [5, 6]])\n",
      "      >>> plot(x, y)\n",
      "    \n",
      "      is equivalent to:\n",
      "    \n",
      "      >>> for col in range(y.shape[1]):\n",
      "      ...     plot(x, y[:, col])\n",
      "    \n",
      "    - The third way is to specify multiple sets of *[x]*, *y*, *[fmt]*\n",
      "      groups::\n",
      "    \n",
      "      >>> plot(x1, y1, 'g^', x2, y2, 'g-')\n",
      "    \n",
      "      In this case, any additional keyword argument applies to all\n",
      "      datasets. Also, this syntax cannot be combined with the *data*\n",
      "      parameter.\n",
      "    \n",
      "    By default, each line is assigned a different style specified by a\n",
      "    'style cycle'. The *fmt* and line property parameters are only\n",
      "    necessary if you want explicit deviations from these defaults.\n",
      "    Alternatively, you can also change the style cycle using\n",
      "    :rc:`axes.prop_cycle`.\n",
      "    \n",
      "    \n",
      "    Parameters\n",
      "    ----------\n",
      "    x, y : array-like or scalar\n",
      "        The horizontal / vertical coordinates of the data points.\n",
      "        *x* values are optional and default to ``range(len(y))``.\n",
      "    \n",
      "        Commonly, these parameters are 1D arrays.\n",
      "    \n",
      "        They can also be scalars, or two-dimensional (in that case, the\n",
      "        columns represent separate data sets).\n",
      "    \n",
      "        These arguments cannot be passed as keywords.\n",
      "    \n",
      "    fmt : str, optional\n",
      "        A format string, e.g. 'ro' for red circles. See the *Notes*\n",
      "        section for a full description of the format strings.\n",
      "    \n",
      "        Format strings are just an abbreviation for quickly setting\n",
      "        basic line properties. All of these and more can also be\n",
      "        controlled by keyword arguments.\n",
      "    \n",
      "        This argument cannot be passed as keyword.\n",
      "    \n",
      "    data : indexable object, optional\n",
      "        An object with labelled data. If given, provide the label names to\n",
      "        plot in *x* and *y*.\n",
      "    \n",
      "        .. note::\n",
      "            Technically there's a slight ambiguity in calls where the\n",
      "            second label is a valid *fmt*. ``plot('n', 'o', data=obj)``\n",
      "            could be ``plt(x, y)`` or ``plt(y, fmt)``. In such cases,\n",
      "            the former interpretation is chosen, but a warning is issued.\n",
      "            You may suppress the warning by adding an empty format string\n",
      "            ``plot('n', 'o', '', data=obj)``.\n",
      "    \n",
      "    Returns\n",
      "    -------\n",
      "    list of `.Line2D`\n",
      "        A list of lines representing the plotted data.\n",
      "    \n",
      "    Other Parameters\n",
      "    ----------------\n",
      "    scalex, scaley : bool, default: True\n",
      "        These parameters determine if the view limits are adapted to the\n",
      "        data limits. The values are passed on to\n",
      "        `~.axes.Axes.autoscale_view`.\n",
      "    \n",
      "    **kwargs : `~matplotlib.lines.Line2D` properties, optional\n",
      "        *kwargs* are used to specify properties like a line label (for\n",
      "        auto legends), linewidth, antialiasing, marker face color.\n",
      "        Example::\n",
      "    \n",
      "        >>> plot([1, 2, 3], [1, 2, 3], 'go-', label='line 1', linewidth=2)\n",
      "        >>> plot([1, 2, 3], [1, 4, 9], 'rs', label='line 2')\n",
      "    \n",
      "        If you specify multiple lines with one plot call, the kwargs apply\n",
      "        to all those lines. In case the label object is iterable, each\n",
      "        element is used as labels for each set of data.\n",
      "    \n",
      "        Here is a list of available `.Line2D` properties:\n",
      "    \n",
      "        Properties:\n",
      "        agg_filter: a filter function, which takes a (m, n, 3) float array and a dpi value, and returns a (m, n, 3) array and two offsets from the bottom left corner of the image\n",
      "        alpha: scalar or None\n",
      "        animated: bool\n",
      "        antialiased or aa: bool\n",
      "        clip_box: `.Bbox`\n",
      "        clip_on: bool\n",
      "        clip_path: Patch or (Path, Transform) or None\n",
      "        color or c: color\n",
      "        dash_capstyle: `.CapStyle` or {'butt', 'projecting', 'round'}\n",
      "        dash_joinstyle: `.JoinStyle` or {'miter', 'round', 'bevel'}\n",
      "        dashes: sequence of floats (on/off ink in points) or (None, None)\n",
      "        data: (2, N) array or two 1D arrays\n",
      "        drawstyle or ds: {'default', 'steps', 'steps-pre', 'steps-mid', 'steps-post'}, default: 'default'\n",
      "        figure: `.Figure`\n",
      "        fillstyle: {'full', 'left', 'right', 'bottom', 'top', 'none'}\n",
      "        gapcolor: color or None\n",
      "        gid: str\n",
      "        in_layout: bool\n",
      "        label: object\n",
      "        linestyle or ls: {'-', '--', '-.', ':', '', (offset, on-off-seq), ...}\n",
      "        linewidth or lw: float\n",
      "        marker: marker style string, `~.path.Path` or `~.markers.MarkerStyle`\n",
      "        markeredgecolor or mec: color\n",
      "        markeredgewidth or mew: float\n",
      "        markerfacecolor or mfc: color\n",
      "        markerfacecoloralt or mfcalt: color\n",
      "        markersize or ms: float\n",
      "        markevery: None or int or (int, int) or slice or list[int] or float or (float, float) or list[bool]\n",
      "        mouseover: bool\n",
      "        path_effects: `.AbstractPathEffect`\n",
      "        picker: float or callable[[Artist, Event], tuple[bool, dict]]\n",
      "        pickradius: unknown\n",
      "        rasterized: bool\n",
      "        sketch_params: (scale: float, length: float, randomness: float)\n",
      "        snap: bool or None\n",
      "        solid_capstyle: `.CapStyle` or {'butt', 'projecting', 'round'}\n",
      "        solid_joinstyle: `.JoinStyle` or {'miter', 'round', 'bevel'}\n",
      "        transform: unknown\n",
      "        url: str\n",
      "        visible: bool\n",
      "        xdata: 1D array\n",
      "        ydata: 1D array\n",
      "        zorder: float\n",
      "    \n",
      "    See Also\n",
      "    --------\n",
      "    scatter : XY scatter plot with markers of varying size and/or color (\n",
      "        sometimes also called bubble chart).\n",
      "    \n",
      "    Notes\n",
      "    -----\n",
      "    **Format Strings**\n",
      "    \n",
      "    A format string consists of a part for color, marker and line::\n",
      "    \n",
      "        fmt = '[marker][line][color]'\n",
      "    \n",
      "    Each of them is optional. If not provided, the value from the style\n",
      "    cycle is used. Exception: If ``line`` is given, but no ``marker``,\n",
      "    the data will be a line without markers.\n",
      "    \n",
      "    Other combinations such as ``[color][marker][line]`` are also\n",
      "    supported, but note that their parsing may be ambiguous.\n",
      "    \n",
      "    **Markers**\n",
      "    \n",
      "    =============   ===============================\n",
      "    character       description\n",
      "    =============   ===============================\n",
      "    ``'.'``         point marker\n",
      "    ``','``         pixel marker\n",
      "    ``'o'``         circle marker\n",
      "    ``'v'``         triangle_down marker\n",
      "    ``'^'``         triangle_up marker\n",
      "    ``'<'``         triangle_left marker\n",
      "    ``'>'``         triangle_right marker\n",
      "    ``'1'``         tri_down marker\n",
      "    ``'2'``         tri_up marker\n",
      "    ``'3'``         tri_left marker\n",
      "    ``'4'``         tri_right marker\n",
      "    ``'8'``         octagon marker\n",
      "    ``'s'``         square marker\n",
      "    ``'p'``         pentagon marker\n",
      "    ``'P'``         plus (filled) marker\n",
      "    ``'*'``         star marker\n",
      "    ``'h'``         hexagon1 marker\n",
      "    ``'H'``         hexagon2 marker\n",
      "    ``'+'``         plus marker\n",
      "    ``'x'``         x marker\n",
      "    ``'X'``         x (filled) marker\n",
      "    ``'D'``         diamond marker\n",
      "    ``'d'``         thin_diamond marker\n",
      "    ``'|'``         vline marker\n",
      "    ``'_'``         hline marker\n",
      "    =============   ===============================\n",
      "    \n",
      "    **Line Styles**\n",
      "    \n",
      "    =============    ===============================\n",
      "    character        description\n",
      "    =============    ===============================\n",
      "    ``'-'``          solid line style\n",
      "    ``'--'``         dashed line style\n",
      "    ``'-.'``         dash-dot line style\n",
      "    ``':'``          dotted line style\n",
      "    =============    ===============================\n",
      "    \n",
      "    Example format strings::\n",
      "    \n",
      "        'b'    # blue markers with default shape\n",
      "        'or'   # red circles\n",
      "        '-g'   # green solid line\n",
      "        '--'   # dashed line with default color\n",
      "        '^k:'  # black triangle_up markers connected by a dotted line\n",
      "    \n",
      "    **Colors**\n",
      "    \n",
      "    The supported color abbreviations are the single letter codes\n",
      "    \n",
      "    =============    ===============================\n",
      "    character        color\n",
      "    =============    ===============================\n",
      "    ``'b'``          blue\n",
      "    ``'g'``          green\n",
      "    ``'r'``          red\n",
      "    ``'c'``          cyan\n",
      "    ``'m'``          magenta\n",
      "    ``'y'``          yellow\n",
      "    ``'k'``          black\n",
      "    ``'w'``          white\n",
      "    =============    ===============================\n",
      "    \n",
      "    and the ``'CN'`` colors that index into the default property cycle.\n",
      "    \n",
      "    If the color is the only part of the format string, you can\n",
      "    additionally use any  `matplotlib.colors` spec, e.g. full names\n",
      "    (``'green'``) or hex strings (``'#008000'``).\n",
      "\n"
     ]
    }
   ],
   "source": [
    "# The help command can be used to get information on the usage of any method in Python. Use it!\n",
    "help(plt.plot)"
   ]
  },
  {
   "cell_type": "code",
   "execution_count": 14,
   "metadata": {},
   "outputs": [
    {
     "data": {
      "image/png": "[encoded data removed]",
      "text/plain": [
       "<Figure size 640x480 with 1 Axes>"
      ]
     },
     "metadata": {},
     "output_type": "display_data"
    }
   ],
   "source": [
    "# first we define the x values for both functions\n",
    "x = range(-10,10)\n",
    "\n",
    "# then we calculate the two functions we want to plot\n",
    "x2 = [(xi/10)**2 for xi in x]\n",
    "x3 = [(xi/10)**3 for xi in x]\n",
    "\n",
    "# the plt.plot function can plot several curves from data by providing triplets x-values, y-values (both as lists) and line type\n",
    "# check the plt.plot function documentation to see how it works. \n",
    "plt.plot( x, x2, '-r', x, x3, 'g-' )\n",
    "\n",
    "# the following methods can be used to add label information \n",
    "plt.xlabel('$x$')\n",
    "plt.ylabel('$f(x)$')\n",
    "plt.title('plotting functions $f(x)$ in Python')\n",
    "# math can be rendered using latex syntax between $ signs\n",
    "# https://en.wikibooks.org/wiki/LaTeX/Mathematics\n",
    "\n",
    "plt.legend(('$x^2$', '$x^3$'))\n",
    "\n",
    "# this last line generates the figure \n",
    "plt.show()\n"
   ]
  },
  {
   "cell_type": "markdown",
   "metadata": {},
   "source": [
    "## Vectors and Matrices\n",
    "For the purpose of calculating with vectors and matrices, we will use the scientific package Numpy (http://www.numpy.org/). \n",
    "Numpy provides efficient methods for handling matrix and vector operations, and is used by most other scientific packages, and therefore is worth learning. As always with Python, you can get help on individual methods using the help() function. In addition, there is extensive documentation online on the Numpy website. \n",
    "\n",
    "**You should read the tutorial** https://docs.scipy.org/doc/numpy-dev/user/quickstart.html as we will be using Numpy extensively in this module. \n",
    "\n",
    "This course **will not** be a Numpy tutorial, as all information is already available, instead we will focus on the methods that are useful for supporting the lectures. You are recommended to do some additional reading on the available online resources. \n",
    "\n",
    "First you need to import the Numpy module: "
   ]
  },
  {
   "cell_type": "code",
   "execution_count": 15,
   "metadata": {},
   "outputs": [],
   "source": [
    "# import the numpy package in the np namespace\n",
    "import numpy  as np"
   ]
  },
  {
   "cell_type": "markdown",
   "metadata": {},
   "source": [
    "Then you start creating matrices and calculating with them: "
   ]
  },
  {
   "cell_type": "code",
   "execution_count": 16,
   "metadata": {},
   "outputs": [
    {
     "name": "stdout",
     "output_type": "stream",
     "text": [
      "A = \n",
      "[[0. 0. 0.]\n",
      " [0. 0. 0.]]\n",
      "B = \n",
      "[[1. 1.]\n",
      " [1. 1.]\n",
      " [1. 1.]]\n",
      "C = \n",
      "[[1. 0.]\n",
      " [0. 1.]]\n",
      "D = \n",
      "[[1 2]\n",
      " [3 4]]\n",
      "B*D = \n",
      "[[4. 6.]\n",
      " [4. 6.]\n",
      " [4. 6.]]\n",
      "C+D = \n",
      "[[2. 2.]\n",
      " [3. 5.]]\n"
     ]
    }
   ],
   "source": [
    "# Here is a way to create a matrix in Numpy\n",
    "# for a matrix of zeros\n",
    "A = np.asmatrix(np.zeros((2,3)))\n",
    "# for a matrix of ones\n",
    "B = np.asmatrix(np.ones((3,2)))\n",
    "# for the identity matrix\n",
    "C = np.asmatrix(np.identity(2))\n",
    "# and for an arbitrary matrix\n",
    "D = np.matrix([[1,2],[3,4]])\n",
    "\n",
    "print('A = ')\n",
    "print(A)\n",
    "print('B = ')\n",
    "print(B)\n",
    "print('C = ')\n",
    "print(C)\n",
    "print('D = ')\n",
    "print(D)\n",
    "print('B*D = ')\n",
    "print(B*D)\n",
    "print('C+D = ')\n",
    "print(C+D)\n",
    "\n"
   ]
  },
  {
   "cell_type": "markdown",
   "metadata": {},
   "source": [
    "Note that numpy has the two distinct types: `array` and `matrix`. They are fundamentally similar, the only exception to take in mind is that the default multiplication for the `array` type is element-wise, whereas for the `matrix` type it is the matrix product. \n",
    "\n",
    "You can convert from one to the other with `np.asarray(A)` or `np.asmatrix(A)`. \n",
    "    "
   ]
  },
  {
   "cell_type": "markdown",
   "metadata": {},
   "source": [
    "# Exercises"
   ]
  },
  {
   "cell_type": "code",
   "execution_count": 17,
   "metadata": {},
   "outputs": [
    {
     "data": {
      "image/png": "[encoded data removed]",
      "text/plain": [
       "<Figure size 640x480 with 1 Axes>"
      ]
     },
     "metadata": {},
     "output_type": "display_data"
    }
   ],
   "source": [
    "# The following lines import the packages for drawing polygons\n",
    "from matplotlib.path import Path\n",
    "import matplotlib.patches as patches\n",
    "\n",
    "def draw_polygon(vertices, codes, ax, shape_colour='orange', opacity=1.0):\n",
    "    path = Path(vertices, codes)\n",
    "\n",
    "    patch = patches.PathPatch(path, facecolor=shape_colour, lw=2, alpha=opacity)\n",
    "    ax.add_patch(patch)\n",
    "\n",
    "# matrix containing all vertices for drawing the triangle \n",
    "vertices = np.matrix([\n",
    "    [1., 1.], # first \n",
    "    [1., 2.], # second\n",
    "    [2., 1.], # third\n",
    "    [1., 1.]  # back to first\n",
    "    ])\n",
    "\n",
    "# list of codes for drawing the triangle\n",
    "codes = [Path.MOVETO,\n",
    "         Path.LINETO,\n",
    "         Path.LINETO,\n",
    "         Path.CLOSEPOLY\n",
    "         ]\n",
    "\n",
    "fig = plt.figure()\n",
    "ax = fig.add_subplot(111)\n",
    "ax.set_xlim(0,5)\n",
    "ax.set_ylim(0,5)\n",
    "    \n",
    "draw_polygon(vertices,codes,ax)\n",
    "plt.show()\n",
    "    "
   ]
  },
  {
   "cell_type": "markdown",
   "metadata": {},
   "source": [
    "### Exercise 1: Rotation and translation\n",
    "Now, define a function using vector addition and matrix product to rotate the triangle by an angle $\\theta$ around a point $(x,y)$. Check the lecture slides for the operations required to translate and rotate the vertices. \n",
    "\n",
    "Once you think you have the correct method, test it with the following values: \n",
    "- rotating by $30^o$ around $(2,2)$\n",
    "- rotating by $-135^o$ around $(1,3)$\n",
    "\n"
   ]
  },
  {
   "cell_type": "code",
   "execution_count": 18,
   "metadata": {
    "collapsed": true
   },
   "outputs": [],
   "source": [
    "def rotate_matrix(current_matrix, rotation_degree, rotation_coordinate):\n",
    "    \"\"\"Rotates a polygon matrix around a point by a specified number of degrees.\"\"\"\n",
    "    \n",
    "    # Initialize the rotation in radians and split the point tuple\n",
    "    rotation_radians = np.radians(rotation_degree)\n",
    "\n",
    "    # Initialize Rotation Matrix\n",
    "    R = np.matrix([\n",
    "        [np.cos(rotation_radians), -np.sin(rotation_radians)],\n",
    "        [np.sin(rotation_radians), np.cos(rotation_radians)]\n",
    "    ])\n",
    "\n",
    "    # Translate \n",
    "    translated_matrix = current_matrix - np.matrix(rotation_coordinate)\n",
    "\n",
    "    # If the matrix has more than 2 columns, extend the rotation matrix\n",
    "    cols = current_matrix.shape[1]\n",
    "    if cols > 2:\n",
    "        R = np.pad(R, ((0, 0), (0, cols - 2)), mode='constant')\n",
    "\n",
    "    # Rotate\n",
    "    rotated_matrix = np.dot(translated_matrix, R)\n",
    "\n",
    "    # Translate back to original position\n",
    "    return_matrix = rotated_matrix + np.matrix(rotation_coordinate)\n",
    "\n",
    "    return return_matrix"
   ]
  },
  {
   "cell_type": "code",
   "execution_count": 19,
   "metadata": {},
   "outputs": [
    {
     "name": "stdout",
     "output_type": "stream",
     "text": [
      "Rotation 1: [[0.6339746 1.6339746]\n",
      " [1.1339746 2.5      ]\n",
      " [1.5       1.1339746]\n",
      " [0.6339746 1.6339746]]\n",
      "Rotation 2: [[2.41421356 4.41421356]\n",
      " [1.70710678 3.70710678]\n",
      " [1.70710678 5.12132034]\n",
      " [2.41421356 4.41421356]]\n"
     ]
    },
    {
     "data": {
      "image/png": "[encoded data removed]",
      "text/plain": [
       "<Figure size 640x480 with 1 Axes>"
      ]
     },
     "metadata": {},
     "output_type": "display_data"
    }
   ],
   "source": [
    "#Perform both rotations\n",
    "\n",
    "rotation_1 = rotate_matrix(vertices, 30, (2, 2))\n",
    "print(\"Rotation 1:\", rotation_1)\n",
    "\n",
    "rotation_2 = rotate_matrix(vertices, -135, (1, 3))\n",
    "print(\"Rotation 2:\", rotation_2)\n",
    "\n",
    "\n",
    "#Set up graph and output\n",
    "\n",
    "fig = plt.figure()\n",
    "ax = fig.add_subplot(111)\n",
    "ax.set_xlim(0,6)\n",
    "ax.set_ylim(0,6)\n",
    "\n",
    "draw_polygon(vertices, codes, ax)\n",
    "draw_polygon(rotation_1, codes, ax, 'blue', 0.7)\n",
    "draw_polygon(rotation_2, codes, ax, 'red', 0.7)\n",
    "plt.show()"
   ]
  },
  {
   "cell_type": "markdown",
   "metadata": {},
   "source": [
    "### Exercise 2: Scaling\n",
    "Create a new method to allow saling of the triangle around an arbitrary axis (hint: rotate by an angle, scale, then rotate back). \n",
    "The parameters of the method will be the angle of the axis $\\theta$ and the scaling parameter $\\lambda$. "
   ]
  },
  {
   "cell_type": "code",
   "execution_count": 29,
   "metadata": {
    "collapsed": true
   },
   "outputs": [],
   "source": [
    "def scale_matrix(current_matrix, rotation_degree, rotation_coordinate, scale_factor):\n",
    "    \"\"\"Scales a triangle around an arbitrary axis by a specified scaling factor and rotation angle.\"\"\"\n",
    "\n",
    "    S = np.matrix([\n",
    "        [scale_factor, 0],\n",
    "        [0, scale_factor]\n",
    "    ])\n",
    "\n",
    "    rotated_matrix = rotate_matrix(current_matrix, rotation_degree, rotation_coordinate)\n",
    "\n",
    "    scaled_matrix = np.dot(rotated_matrix, S)\n",
    "\n",
    "    final_matrix = rotate_matrix(scaled_matrix, -rotation_degree, rotation_coordinate)\n",
    "\n",
    "    return final_matrix"
   ]
  },
  {
   "cell_type": "code",
   "execution_count": 32,
   "metadata": {},
   "outputs": [],
   "source": [
    "#Perform scale\n",
    "scale_1 = scale_matrix(vertices, 30, (0, 0), 2)"
   ]
  },
  {
   "cell_type": "code",
   "execution_count": 33,
   "metadata": {},
   "outputs": [
    {
     "data": {
      "image/png": "[encoded data removed]",
      "text/plain": [
       "<Figure size 640x480 with 1 Axes>"
      ]
     },
     "metadata": {},
     "output_type": "display_data"
    }
   ],
   "source": [
    "#Set up graph and output\n",
    "fig = plt.figure()\n",
    "ax = fig.add_subplot(111)\n",
    "ax.set_xlim(0,6)\n",
    "ax.set_ylim(0,6)\n",
    "\n",
    "draw_polygon(vertices, codes, ax)\n",
    "draw_polygon(scale_1, codes, ax, 'blue', 0.7)\n",
    "plt.show()"
   ]
  }
 ],
 "metadata": {
  "anaconda-cloud": {},
  "kernelspec": {
   "display_name": "base",
   "language": "python",
   "name": "python3"
  },
  "language_info": {
   "codemirror_mode": {
    "name": "ipython",
    "version": 3
   },
   "file_extension": ".py",
   "mimetype": "text/x-python",
   "name": "python",
   "nbconvert_exporter": "python",
   "pygments_lexer": "ipython3",
   "version": "3.11.5"
  }
 },
 "nbformat": 4,
 "nbformat_minor": 1
}
